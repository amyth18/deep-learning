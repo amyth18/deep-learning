{
 "cells": [
  {
   "cell_type": "code",
   "execution_count": 41,
   "id": "fbc8dcc5",
   "metadata": {},
   "outputs": [],
   "source": [
    "import torch\n",
    "import torch.nn.functional as F\n",
    "import pandas as pd"
   ]
  },
  {
   "cell_type": "markdown",
   "id": "3de255be",
   "metadata": {},
   "source": [
    "# Data Preparation"
   ]
  },
  {
   "cell_type": "code",
   "execution_count": 21,
   "id": "5dc987cb",
   "metadata": {},
   "outputs": [
    {
     "data": {
      "text/html": [
       "<div>\n",
       "<style scoped>\n",
       "    .dataframe tbody tr th:only-of-type {\n",
       "        vertical-align: middle;\n",
       "    }\n",
       "\n",
       "    .dataframe tbody tr th {\n",
       "        vertical-align: top;\n",
       "    }\n",
       "\n",
       "    .dataframe thead th {\n",
       "        text-align: right;\n",
       "    }\n",
       "</style>\n",
       "<table border=\"1\" class=\"dataframe\">\n",
       "  <thead>\n",
       "    <tr style=\"text-align: right;\">\n",
       "      <th></th>\n",
       "      <th>sepal_length</th>\n",
       "      <th>sepal_width</th>\n",
       "      <th>petal_length</th>\n",
       "      <th>petal_width</th>\n",
       "      <th>species</th>\n",
       "    </tr>\n",
       "  </thead>\n",
       "  <tbody>\n",
       "    <tr>\n",
       "      <th>0</th>\n",
       "      <td>5.1</td>\n",
       "      <td>3.5</td>\n",
       "      <td>1.4</td>\n",
       "      <td>0.2</td>\n",
       "      <td>Iris-setosa</td>\n",
       "    </tr>\n",
       "    <tr>\n",
       "      <th>1</th>\n",
       "      <td>4.9</td>\n",
       "      <td>3.0</td>\n",
       "      <td>1.4</td>\n",
       "      <td>0.2</td>\n",
       "      <td>Iris-setosa</td>\n",
       "    </tr>\n",
       "    <tr>\n",
       "      <th>2</th>\n",
       "      <td>4.7</td>\n",
       "      <td>3.2</td>\n",
       "      <td>1.3</td>\n",
       "      <td>0.2</td>\n",
       "      <td>Iris-setosa</td>\n",
       "    </tr>\n",
       "    <tr>\n",
       "      <th>3</th>\n",
       "      <td>4.6</td>\n",
       "      <td>3.1</td>\n",
       "      <td>1.5</td>\n",
       "      <td>0.2</td>\n",
       "      <td>Iris-setosa</td>\n",
       "    </tr>\n",
       "    <tr>\n",
       "      <th>4</th>\n",
       "      <td>5.0</td>\n",
       "      <td>3.6</td>\n",
       "      <td>1.4</td>\n",
       "      <td>0.2</td>\n",
       "      <td>Iris-setosa</td>\n",
       "    </tr>\n",
       "  </tbody>\n",
       "</table>\n",
       "</div>"
      ],
      "text/plain": [
       "   sepal_length  sepal_width  petal_length  petal_width      species\n",
       "0           5.1          3.5           1.4          0.2  Iris-setosa\n",
       "1           4.9          3.0           1.4          0.2  Iris-setosa\n",
       "2           4.7          3.2           1.3          0.2  Iris-setosa\n",
       "3           4.6          3.1           1.5          0.2  Iris-setosa\n",
       "4           5.0          3.6           1.4          0.2  Iris-setosa"
      ]
     },
     "execution_count": 21,
     "metadata": {},
     "output_type": "execute_result"
    }
   ],
   "source": [
    "iris_df = pd.read_csv('./data/Iris.csv')\n",
    "iris_df.head(5)"
   ]
  },
  {
   "cell_type": "code",
   "execution_count": 22,
   "id": "bed2e32a",
   "metadata": {},
   "outputs": [],
   "source": [
    "X = iris_df.drop([\"species\"], axis=1).values\n",
    "y = iris_df[\"species\"].values"
   ]
  },
  {
   "cell_type": "markdown",
   "id": "a6d66033",
   "metadata": {},
   "source": [
    "Rescale all features to ensure one feature does not dominate the model predictions. In this case we center all features to 0 mean and unit variance."
   ]
  },
  {
   "cell_type": "code",
   "execution_count": 35,
   "id": "94e0a2cc",
   "metadata": {},
   "outputs": [],
   "source": [
    "from sklearn.preprocessing import StandardScaler\n",
    "from sklearn.model_selection import train_test_split\n",
    "\n",
    "X_train, X_test, y_train, y_test = train_test_split(X, y, test_size=0.20, random_state=18)\n",
    "scaler = StandardScaler()\n",
    "\n",
    "X_train = scaler.fit_transform(X_train)\n",
    "X_test = scaler.transform(X_test)"
   ]
  },
  {
   "cell_type": "markdown",
   "id": "d6803ea8",
   "metadata": {},
   "source": [
    "Convert the categorial variable 'y' to one-hot encoding."
   ]
  },
  {
   "cell_type": "code",
   "execution_count": 36,
   "id": "fc226241",
   "metadata": {},
   "outputs": [],
   "source": [
    "y_train = pd.get_dummies(y_train)\n",
    "y_test = pd.get_dummies(y_test)"
   ]
  },
  {
   "cell_type": "code",
   "execution_count": 37,
   "id": "eb884d31",
   "metadata": {},
   "outputs": [
    {
     "data": {
      "text/html": [
       "<div>\n",
       "<style scoped>\n",
       "    .dataframe tbody tr th:only-of-type {\n",
       "        vertical-align: middle;\n",
       "    }\n",
       "\n",
       "    .dataframe tbody tr th {\n",
       "        vertical-align: top;\n",
       "    }\n",
       "\n",
       "    .dataframe thead th {\n",
       "        text-align: right;\n",
       "    }\n",
       "</style>\n",
       "<table border=\"1\" class=\"dataframe\">\n",
       "  <thead>\n",
       "    <tr style=\"text-align: right;\">\n",
       "      <th></th>\n",
       "      <th>Iris-setosa</th>\n",
       "      <th>Iris-versicolor</th>\n",
       "      <th>Iris-virginica</th>\n",
       "    </tr>\n",
       "  </thead>\n",
       "  <tbody>\n",
       "    <tr>\n",
       "      <th>0</th>\n",
       "      <td>0</td>\n",
       "      <td>0</td>\n",
       "      <td>1</td>\n",
       "    </tr>\n",
       "    <tr>\n",
       "      <th>1</th>\n",
       "      <td>0</td>\n",
       "      <td>0</td>\n",
       "      <td>1</td>\n",
       "    </tr>\n",
       "    <tr>\n",
       "      <th>2</th>\n",
       "      <td>0</td>\n",
       "      <td>1</td>\n",
       "      <td>0</td>\n",
       "    </tr>\n",
       "    <tr>\n",
       "      <th>3</th>\n",
       "      <td>0</td>\n",
       "      <td>0</td>\n",
       "      <td>1</td>\n",
       "    </tr>\n",
       "    <tr>\n",
       "      <th>4</th>\n",
       "      <td>0</td>\n",
       "      <td>0</td>\n",
       "      <td>1</td>\n",
       "    </tr>\n",
       "  </tbody>\n",
       "</table>\n",
       "</div>"
      ],
      "text/plain": [
       "   Iris-setosa  Iris-versicolor  Iris-virginica\n",
       "0            0                0               1\n",
       "1            0                0               1\n",
       "2            0                1               0\n",
       "3            0                0               1\n",
       "4            0                0               1"
      ]
     },
     "execution_count": 37,
     "metadata": {},
     "output_type": "execute_result"
    }
   ],
   "source": [
    "y_train.head(5)"
   ]
  },
  {
   "cell_type": "markdown",
   "id": "446e3767",
   "metadata": {},
   "source": [
    "Convert all variables to tensors."
   ]
  },
  {
   "cell_type": "code",
   "execution_count": 38,
   "id": "79e19612",
   "metadata": {},
   "outputs": [],
   "source": [
    "X_train = torch.FloatTensor(X_train)\n",
    "X_test = torch.FloatTensor(X_test)\n",
    "\n",
    "y_train = torch.LongTensor(y_train.values)\n",
    "y_test = torch.LongTensor(y_test.values)"
   ]
  },
  {
   "cell_type": "markdown",
   "id": "437782cb",
   "metadata": {},
   "source": [
    "# Model Definition"
   ]
  },
  {
   "cell_type": "code",
   "execution_count": 69,
   "id": "e4b65d70",
   "metadata": {},
   "outputs": [],
   "source": [
    "class IrisModel(torch.nn.Module):\n",
    "    def __init__(self, input_dim):\n",
    "        super(IrisModel, self).__init__()\n",
    "        self.layer1 = torch.nn.Linear(input_dim, 16)\n",
    "        self.layer2 = torch.nn.Linear(16, 3)\n",
    "        \n",
    "    def forward(self, x):\n",
    "        x = F.relu(self.layer1(x))\n",
    "        x = F.softmax(self.layer2(x), dim=1)\n",
    "        return x"
   ]
  },
  {
   "cell_type": "markdown",
   "id": "936f2c0d",
   "metadata": {},
   "source": [
    "# Model Training"
   ]
  },
  {
   "cell_type": "code",
   "execution_count": 70,
   "id": "d933dbc0",
   "metadata": {},
   "outputs": [],
   "source": [
    "model = IrisModel(X_train.shape[1])\n",
    "learning_rate = 0.01\n",
    "criterion = torch.nn.CrossEntropyLoss()\n",
    "optimizer = torch.optim.Adam(model.parameters(),lr=learning_rate)"
   ]
  },
  {
   "cell_type": "code",
   "execution_count": 71,
   "id": "9b7115f6",
   "metadata": {},
   "outputs": [
    {
     "name": "stdout",
     "output_type": "stream",
     "text": [
      "Epoch No: 0, Training Loss: 1.1418263415495555, Testing Loss: 1.1446060220400491\n",
      "Epoch No: 50, Training Loss: 0.6678481668233871, Testing Loss: 0.6539150695006053\n",
      "Epoch No: 100, Training Loss: 0.5913095250725746, Testing Loss: 0.5813740670681\n",
      "Epoch No: 150, Training Loss: 0.5811779196063678, Testing Loss: 0.5706147988637288\n",
      "Epoch No: 200, Training Loss: 0.5770851984620095, Testing Loss: 0.5661000887552897\n",
      "Epoch No: 250, Training Loss: 0.574740802248319, Testing Loss: 0.5637828807036082\n",
      "Epoch No: 300, Training Loss: 0.5728683819373449, Testing Loss: 0.5627630194028218\n",
      "Epoch No: 350, Training Loss: 0.570982250571251, Testing Loss: 0.5634482522805532\n",
      "Epoch No: 400, Training Loss: 0.5688546086351077, Testing Loss: 0.5668120145797729\n",
      "Epoch No: 450, Training Loss: 0.5667917708555857, Testing Loss: 0.57186292608579\n",
      "Epoch No: 500, Training Loss: 0.5650921156009038, Testing Loss: 0.5762700299421947\n",
      "Epoch No: 550, Training Loss: 0.5638097946842512, Testing Loss: 0.579246457417806\n",
      "Epoch No: 600, Training Loss: 0.5628831287225088, Testing Loss: 0.5811340570449829\n",
      "Epoch No: 650, Training Loss: 0.562220371266206, Testing Loss: 0.5823482513427735\n",
      "Epoch No: 700, Training Loss: 0.5617411941289902, Testing Loss: 0.5831211487452189\n",
      "Epoch No: 750, Training Loss: 0.5613876799742381, Testing Loss: 0.5836135149002075\n",
      "Epoch No: 800, Training Loss: 0.5611202860871951, Testing Loss: 0.5839156786600749\n",
      "Epoch No: 850, Training Loss: 0.5609138290087382, Testing Loss: 0.5841152767340342\n",
      "Epoch No: 900, Training Loss: 0.5607517446080844, Testing Loss: 0.5842597564061482\n",
      "Epoch No: 950, Training Loss: 0.5606220667560895, Testing Loss: 0.5843644301096599\n"
     ]
    }
   ],
   "source": [
    "no_of_epocs = 1000\n",
    "train_loss = list()\n",
    "test_loss = list()\n",
    "\n",
    "for e in range(no_of_epocs):\n",
    "    optimizer.zero_grad()\n",
    "    \n",
    "    # train\n",
    "    tr_output = model(X_train)\n",
    "    tr_loss = criterion(tr_output, y_train.double())\n",
    "    tr_loss.backward()\n",
    "    optimizer.step()\n",
    "    \n",
    "    # test\n",
    "    tst_output = model(X_test)\n",
    "    tst_loss = criterion(tst_output, y_test.double())\n",
    "\n",
    "    train_loss.append(train_loss)\n",
    "    test_loss.append(tst_loss)\n",
    "    \n",
    "    if e%50 == 0:\n",
    "        print(f\"Epoch No: {e}, Training Loss: {tr_loss}, Testing Loss: {tst_loss}\")"
   ]
  },
  {
   "cell_type": "markdown",
   "id": "86e00216",
   "metadata": {},
   "source": [
    "# Model Evaluation"
   ]
  },
  {
   "cell_type": "code",
   "execution_count": 83,
   "id": "30b75bd0",
   "metadata": {},
   "outputs": [
    {
     "name": "stdout",
     "output_type": "stream",
     "text": [
      "Train Accuracy: 0.9916666666666667 Test Accuracy: 0.9666666666666667\n"
     ]
    }
   ],
   "source": [
    "from sklearn.metrics import accuracy_score\n",
    "\n",
    "train_output = model(X_train)\n",
    "test_output = model(X_test)\n",
    "\n",
    "correct_train = torch.mean((torch.argmax(y_train, axis=1) == torch.argmax(train_output, axis=1)).double())\n",
    "correct_test = torch.mean((torch.argmax(y_test, axis=1) == torch.argmax(test_output, axis=1)).double())\n",
    "print(f\"Train Accuracy: {correct_train} Test Accuracy: {correct_test}\")"
   ]
  },
  {
   "cell_type": "code",
   "execution_count": null,
   "id": "ccb4afb6",
   "metadata": {},
   "outputs": [],
   "source": []
  }
 ],
 "metadata": {
  "kernelspec": {
   "display_name": "Python 3",
   "language": "python",
   "name": "python3"
  },
  "language_info": {
   "codemirror_mode": {
    "name": "ipython",
    "version": 3
   },
   "file_extension": ".py",
   "mimetype": "text/x-python",
   "name": "python",
   "nbconvert_exporter": "python",
   "pygments_lexer": "ipython3",
   "version": "3.6.13"
  }
 },
 "nbformat": 4,
 "nbformat_minor": 5
}
